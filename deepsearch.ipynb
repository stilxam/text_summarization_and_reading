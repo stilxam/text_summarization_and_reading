{
 "cells": [
  {
   "cell_type": "code",
   "execution_count": 1,
   "id": "77b61fd4d47c8e7",
   "metadata": {
    "collapsed": true,
    "ExecuteTime": {
     "end_time": "2024-02-12T10:48:57.982706569Z",
     "start_time": "2024-02-12T10:48:57.797657053Z"
    }
   },
   "outputs": [],
   "source": [
    "import deepsearch as ds     \n",
    "from pathlib import Path"
   ]
  },
  {
   "cell_type": "markdown",
   "source": [
    "# Set up API keys"
   ],
   "metadata": {
    "collapsed": false
   },
   "id": "fa2ee23a8b83f025"
  },
  {
   "cell_type": "code",
   "execution_count": 7,
   "outputs": [
    {
     "name": "stdout",
     "output_type": "stream",
     "text": [
      "['Community project']\n"
     ]
    }
   ],
   "source": [
    "from deepsearch.cps.client.api import CpsApi\n",
    "\n",
    "api = CpsApi.from_env()\n",
    "\n",
    "print([p.name for p in api.projects.list()])\n"
   ],
   "metadata": {
    "collapsed": false,
    "ExecuteTime": {
     "end_time": "2024-02-12T10:51:53.402971217Z",
     "start_time": "2024-02-12T10:51:51.145647390Z"
    }
   },
   "id": "bf7b557f1d96aeb2"
  },
  {
   "cell_type": "code",
   "execution_count": 2,
   "outputs": [],
   "source": [
    "cwd = Path.cwd()\n",
    "with open(cwd.joinpath(\".ibmAPI.txt\"), \"r\") as txt:\n",
    "    username, api, project_key = txt.read().split(\"\\n\")\n",
    "    "
   ],
   "metadata": {
    "collapsed": false,
    "ExecuteTime": {
     "end_time": "2024-02-12T10:48:58.539544495Z",
     "start_time": "2024-02-12T10:48:58.499180467Z"
    }
   },
   "id": "b150d9f86b5f0112"
  },
  {
   "cell_type": "markdown",
   "source": [
    "# Set up file to be processed"
   ],
   "metadata": {
    "collapsed": false
   },
   "id": "f2d692827a6f7773"
  },
  {
   "cell_type": "code",
   "execution_count": 3,
   "outputs": [
    {
     "data": {
      "text/plain": "True"
     },
     "execution_count": 3,
     "metadata": {},
     "output_type": "execute_result"
    }
   ],
   "source": [
    "pdf_dir = cwd.joinpath(\"data\", \"pdfs\")\n",
    "test_pdf = pdf_dir.joinpath(\"MOE_mamba.pdf\")\n",
    "results_dir = cwd.joinpath(\"data\", \"results\")\n",
    "test_pdf.exists() and results_dir.exists()"
   ],
   "metadata": {
    "collapsed": false,
    "ExecuteTime": {
     "end_time": "2024-02-12T10:49:02.639532074Z",
     "start_time": "2024-02-12T10:49:02.634398617Z"
    }
   },
   "id": "eb49d6e16fa0cacc"
  },
  {
   "cell_type": "code",
   "execution_count": 6,
   "outputs": [
    {
     "ename": "AttributeError",
     "evalue": "'str' object has no attribute 'client'",
     "output_type": "error",
     "traceback": [
      "\u001B[0;31m---------------------------------------------------------------------------\u001B[0m",
      "\u001B[0;31mAttributeError\u001B[0m                            Traceback (most recent call last)",
      "Cell \u001B[0;32mIn[6], line 2\u001B[0m\n\u001B[1;32m      1\u001B[0m \u001B[38;5;66;03m# documents = ds.convert_documents(api=api, proj_key=project_key, source_path=test_pdf)\u001B[39;00m\n\u001B[0;32m----> 2\u001B[0m documents \u001B[38;5;241m=\u001B[39m \u001B[43mds\u001B[49m\u001B[38;5;241;43m.\u001B[39;49m\u001B[43mconvert_documents\u001B[49m\u001B[43m(\u001B[49m\u001B[43mapi\u001B[49m\u001B[38;5;241;43m=\u001B[39;49m\u001B[43mapi\u001B[49m\u001B[43m,\u001B[49m\u001B[43m \u001B[49m\u001B[43mproj_key\u001B[49m\u001B[38;5;241;43m=\u001B[39;49m\u001B[43mproject_key\u001B[49m\u001B[43m,\u001B[49m\u001B[43m \u001B[49m\u001B[43murls\u001B[49m\u001B[38;5;241;43m=\u001B[39;49m\u001B[38;5;124;43m\"\u001B[39;49m\u001B[38;5;124;43mhttps://arxiv.org/pdf/2401.04081.pdf\u001B[39;49m\u001B[38;5;124;43m\"\u001B[39;49m\u001B[43m)\u001B[49m\n\u001B[1;32m      4\u001B[0m \u001B[38;5;66;03m# Let's download all the converted documents locally in RESULT_DIR\u001B[39;00m\n\u001B[1;32m      5\u001B[0m documents\u001B[38;5;241m.\u001B[39mdownload_all(result_dir \u001B[38;5;241m=\u001B[39m results_dir)\n",
      "File \u001B[0;32m~/u/text_summarization_and_reading/lib/python3.10/site-packages/deepsearch/documents/core/main.py:68\u001B[0m, in \u001B[0;36mconvert_documents\u001B[0;34m(proj_key, api, urls, source_path, source_cos, target, conversion_settings, progress_bar)\u001B[0m\n\u001B[1;32m     65\u001B[0m     \u001B[38;5;28;01mif\u001B[39;00m \u001B[38;5;28misinstance\u001B[39m(urls, \u001B[38;5;28mstr\u001B[39m):\n\u001B[1;32m     66\u001B[0m         urls \u001B[38;5;241m=\u001B[39m [urls]\n\u001B[0;32m---> 68\u001B[0m     \u001B[38;5;28;01mreturn\u001B[39;00m \u001B[43mprocess_urls_input\u001B[49m\u001B[43m(\u001B[49m\n\u001B[1;32m     69\u001B[0m \u001B[43m        \u001B[49m\u001B[43mapi\u001B[49m\u001B[38;5;241;43m=\u001B[39;49m\u001B[43mapi\u001B[49m\u001B[43m,\u001B[49m\n\u001B[1;32m     70\u001B[0m \u001B[43m        \u001B[49m\u001B[43mcps_proj_key\u001B[49m\u001B[38;5;241;43m=\u001B[39;49m\u001B[43mproj_key\u001B[49m\u001B[43m,\u001B[49m\n\u001B[1;32m     71\u001B[0m \u001B[43m        \u001B[49m\u001B[43murls\u001B[49m\u001B[38;5;241;43m=\u001B[39;49m\u001B[43murls\u001B[49m\u001B[43m,\u001B[49m\n\u001B[1;32m     72\u001B[0m \u001B[43m        \u001B[49m\u001B[43mtarget\u001B[49m\u001B[38;5;241;43m=\u001B[39;49m\u001B[43mtarget\u001B[49m\u001B[43m,\u001B[49m\n\u001B[1;32m     73\u001B[0m \u001B[43m        \u001B[49m\u001B[43mconversion_settings\u001B[49m\u001B[38;5;241;43m=\u001B[39;49m\u001B[43mconversion_settings\u001B[49m\u001B[43m,\u001B[49m\n\u001B[1;32m     74\u001B[0m \u001B[43m        \u001B[49m\u001B[43mprogress_bar\u001B[49m\u001B[38;5;241;43m=\u001B[39;49m\u001B[43mprogress_bar\u001B[49m\u001B[43m,\u001B[49m\n\u001B[1;32m     75\u001B[0m \u001B[43m    \u001B[49m\u001B[43m)\u001B[49m\n\u001B[1;32m     76\u001B[0m \u001B[38;5;28;01melif\u001B[39;00m urls \u001B[38;5;129;01mis\u001B[39;00m \u001B[38;5;28;01mNone\u001B[39;00m \u001B[38;5;129;01mand\u001B[39;00m source_path \u001B[38;5;129;01mis\u001B[39;00m \u001B[38;5;129;01mnot\u001B[39;00m \u001B[38;5;28;01mNone\u001B[39;00m \u001B[38;5;129;01mand\u001B[39;00m source_cos \u001B[38;5;129;01mis\u001B[39;00m \u001B[38;5;28;01mNone\u001B[39;00m:\n\u001B[1;32m     77\u001B[0m     \u001B[38;5;28;01mreturn\u001B[39;00m process_local_input(\n\u001B[1;32m     78\u001B[0m         api\u001B[38;5;241m=\u001B[39mapi,\n\u001B[1;32m     79\u001B[0m         cps_proj_key\u001B[38;5;241m=\u001B[39mproj_key,\n\u001B[0;32m   (...)\u001B[0m\n\u001B[1;32m     83\u001B[0m         progress_bar\u001B[38;5;241m=\u001B[39mprogress_bar,\n\u001B[1;32m     84\u001B[0m     )\n",
      "File \u001B[0;32m~/u/text_summarization_and_reading/lib/python3.10/site-packages/deepsearch/documents/core/input_process.py:80\u001B[0m, in \u001B[0;36mprocess_urls_input\u001B[0;34m(api, cps_proj_key, urls, target, conversion_settings, progress_bar)\u001B[0m\n\u001B[1;32m     69\u001B[0m \u001B[38;5;28;01mdef\u001B[39;00m \u001B[38;5;21mprocess_urls_input\u001B[39m(\n\u001B[1;32m     70\u001B[0m     api: CpsApi,\n\u001B[1;32m     71\u001B[0m     cps_proj_key: \u001B[38;5;28mstr\u001B[39m,\n\u001B[0;32m   (...)\u001B[0m\n\u001B[1;32m     75\u001B[0m     progress_bar\u001B[38;5;241m=\u001B[39m\u001B[38;5;28;01mFalse\u001B[39;00m,\n\u001B[1;32m     76\u001B[0m ):\n\u001B[1;32m     77\u001B[0m \u001B[38;5;250m    \u001B[39m\u001B[38;5;124;03m\"\"\"\u001B[39;00m\n\u001B[1;32m     78\u001B[0m \u001B[38;5;124;03m    Classify user provided url(s) and take appropriate action.\u001B[39;00m\n\u001B[1;32m     79\u001B[0m \u001B[38;5;124;03m    \"\"\"\u001B[39;00m\n\u001B[0;32m---> 80\u001B[0m     task_ids \u001B[38;5;241m=\u001B[39m \u001B[43msend_urls_for_conversion\u001B[49m\u001B[43m(\u001B[49m\n\u001B[1;32m     81\u001B[0m \u001B[43m        \u001B[49m\u001B[43mapi\u001B[49m\u001B[38;5;241;43m=\u001B[39;49m\u001B[43mapi\u001B[49m\u001B[43m,\u001B[49m\n\u001B[1;32m     82\u001B[0m \u001B[43m        \u001B[49m\u001B[43mcps_proj_key\u001B[49m\u001B[38;5;241;43m=\u001B[39;49m\u001B[43mcps_proj_key\u001B[49m\u001B[43m,\u001B[49m\n\u001B[1;32m     83\u001B[0m \u001B[43m        \u001B[49m\u001B[43murls\u001B[49m\u001B[38;5;241;43m=\u001B[39;49m\u001B[43murls\u001B[49m\u001B[43m,\u001B[49m\n\u001B[1;32m     84\u001B[0m \u001B[43m        \u001B[49m\u001B[43mtarget\u001B[49m\u001B[38;5;241;43m=\u001B[39;49m\u001B[43mtarget\u001B[49m\u001B[43m,\u001B[49m\n\u001B[1;32m     85\u001B[0m \u001B[43m        \u001B[49m\u001B[43mconversion_settings\u001B[49m\u001B[38;5;241;43m=\u001B[39;49m\u001B[43mconversion_settings\u001B[49m\u001B[43m,\u001B[49m\n\u001B[1;32m     86\u001B[0m \u001B[43m        \u001B[49m\u001B[43mprogress_bar\u001B[49m\u001B[38;5;241;43m=\u001B[39;49m\u001B[43mprogress_bar\u001B[49m\u001B[43m,\u001B[49m\n\u001B[1;32m     87\u001B[0m \u001B[43m    \u001B[49m\u001B[43m)\u001B[49m\n\u001B[1;32m     88\u001B[0m     statuses \u001B[38;5;241m=\u001B[39m check_status_running_tasks(\n\u001B[1;32m     89\u001B[0m         api\u001B[38;5;241m=\u001B[39mapi, cps_proj_key\u001B[38;5;241m=\u001B[39mcps_proj_key, task_ids\u001B[38;5;241m=\u001B[39mtask_ids, progress_bar\u001B[38;5;241m=\u001B[39mprogress_bar\n\u001B[1;32m     90\u001B[0m     )\n\u001B[1;32m     91\u001B[0m     \u001B[38;5;28;01mreturn\u001B[39;00m DocumentConversionResult(\n\u001B[1;32m     92\u001B[0m         proj_key\u001B[38;5;241m=\u001B[39mcps_proj_key,\n\u001B[1;32m     93\u001B[0m         task_ids\u001B[38;5;241m=\u001B[39mtask_ids,\n\u001B[0;32m   (...)\u001B[0m\n\u001B[1;32m     96\u001B[0m         api\u001B[38;5;241m=\u001B[39mapi,\n\u001B[1;32m     97\u001B[0m     )\n",
      "File \u001B[0;32m~/u/text_summarization_and_reading/lib/python3.10/site-packages/deepsearch/documents/core/convert.py:320\u001B[0m, in \u001B[0;36msend_urls_for_conversion\u001B[0;34m(api, cps_proj_key, urls, target, conversion_settings, progress_bar)\u001B[0m\n\u001B[1;32m    312\u001B[0m \u001B[38;5;28;01mwith\u001B[39;00m tqdm(\n\u001B[1;32m    313\u001B[0m     total\u001B[38;5;241m=\u001B[39mcount_urls,\n\u001B[1;32m    314\u001B[0m     desc\u001B[38;5;241m=\u001B[39m\u001B[38;5;124mf\u001B[39m\u001B[38;5;124m\"\u001B[39m\u001B[38;5;132;01m{\u001B[39;00m\u001B[38;5;124m'\u001B[39m\u001B[38;5;124mSubmitting input:\u001B[39m\u001B[38;5;124m'\u001B[39m\u001B[38;5;132;01m:\u001B[39;00m\u001B[38;5;124m <\u001B[39m\u001B[38;5;132;01m{\u001B[39;00mprogressbar\u001B[38;5;241m.\u001B[39mpadding\u001B[38;5;132;01m}\u001B[39;00m\u001B[38;5;132;01m}\u001B[39;00m\u001B[38;5;124m\"\u001B[39m,\n\u001B[0;32m   (...)\u001B[0m\n\u001B[1;32m    317\u001B[0m     bar_format\u001B[38;5;241m=\u001B[39mprogressbar\u001B[38;5;241m.\u001B[39mbar_format,\n\u001B[1;32m    318\u001B[0m ) \u001B[38;5;28;01mas\u001B[39;00m progress:\n\u001B[1;32m    319\u001B[0m     \u001B[38;5;28;01mfor\u001B[39;00m url \u001B[38;5;129;01min\u001B[39;00m urls:\n\u001B[0;32m--> 320\u001B[0m         task_id \u001B[38;5;241m=\u001B[39m \u001B[43msubmit_conversion_payload\u001B[49m\u001B[43m(\u001B[49m\n\u001B[1;32m    321\u001B[0m \u001B[43m            \u001B[49m\u001B[43mapi\u001B[49m\u001B[38;5;241;43m=\u001B[39;49m\u001B[43mapi\u001B[49m\u001B[43m,\u001B[49m\n\u001B[1;32m    322\u001B[0m \u001B[43m            \u001B[49m\u001B[43mcps_proj_key\u001B[49m\u001B[38;5;241;43m=\u001B[39;49m\u001B[43mcps_proj_key\u001B[49m\u001B[43m,\u001B[49m\n\u001B[1;32m    323\u001B[0m \u001B[43m            \u001B[49m\u001B[43msource\u001B[49m\u001B[38;5;241;43m=\u001B[39;49m\u001B[43m{\u001B[49m\n\u001B[1;32m    324\u001B[0m \u001B[43m                \u001B[49m\u001B[38;5;124;43m\"\u001B[39;49m\u001B[38;5;124;43mtype\u001B[39;49m\u001B[38;5;124;43m\"\u001B[39;49m\u001B[43m:\u001B[49m\u001B[43m \u001B[49m\u001B[38;5;124;43m\"\u001B[39;49m\u001B[38;5;124;43murl\u001B[39;49m\u001B[38;5;124;43m\"\u001B[39;49m\u001B[43m,\u001B[49m\n\u001B[1;32m    325\u001B[0m \u001B[43m                \u001B[49m\u001B[38;5;124;43m\"\u001B[39;49m\u001B[38;5;124;43mdownload_url\u001B[39;49m\u001B[38;5;124;43m\"\u001B[39;49m\u001B[43m:\u001B[49m\u001B[43m \u001B[49m\u001B[43murl\u001B[49m\u001B[43m,\u001B[49m\n\u001B[1;32m    326\u001B[0m \u001B[43m            \u001B[49m\u001B[43m}\u001B[49m\u001B[43m,\u001B[49m\n\u001B[1;32m    327\u001B[0m \u001B[43m            \u001B[49m\u001B[43mtarget\u001B[49m\u001B[38;5;241;43m=\u001B[39;49m\u001B[43mtarget\u001B[49m\u001B[43m,\u001B[49m\n\u001B[1;32m    328\u001B[0m \u001B[43m            \u001B[49m\u001B[43mconversion_settings\u001B[49m\u001B[38;5;241;43m=\u001B[39;49m\u001B[43mconversion_settings\u001B[49m\u001B[43m,\u001B[49m\n\u001B[1;32m    329\u001B[0m \u001B[43m        \u001B[49m\u001B[43m)\u001B[49m\n\u001B[1;32m    330\u001B[0m         task_ids\u001B[38;5;241m.\u001B[39mappend(task_id)\n\u001B[1;32m    331\u001B[0m         progress\u001B[38;5;241m.\u001B[39mupdate(\u001B[38;5;241m1\u001B[39m)\n",
      "File \u001B[0;32m~/u/text_summarization_and_reading/lib/python3.10/site-packages/deepsearch/documents/core/convert.py:100\u001B[0m, in \u001B[0;36msubmit_conversion_payload\u001B[0;34m(api, cps_proj_key, source, target, conversion_settings)\u001B[0m\n\u001B[1;32m     96\u001B[0m \u001B[38;5;250m\u001B[39m\u001B[38;5;124;03m\"\"\"\u001B[39;00m\n\u001B[1;32m     97\u001B[0m \u001B[38;5;124;03mConvert an online pdf using DeepSearch Technology.\u001B[39;00m\n\u001B[1;32m     98\u001B[0m \u001B[38;5;124;03m\"\"\"\u001B[39;00m\n\u001B[1;32m     99\u001B[0m \u001B[38;5;66;03m# get ccs project key and collection name\u001B[39;00m\n\u001B[0;32m--> 100\u001B[0m ccs_proj_key, collection_name \u001B[38;5;241m=\u001B[39m \u001B[43mget_ccs_project_key\u001B[49m\u001B[43m(\u001B[49m\n\u001B[1;32m    101\u001B[0m \u001B[43m    \u001B[49m\u001B[43mapi\u001B[49m\u001B[38;5;241;43m=\u001B[39;49m\u001B[43mapi\u001B[49m\u001B[43m,\u001B[49m\u001B[43m \u001B[49m\u001B[43mcps_proj_key\u001B[49m\u001B[38;5;241;43m=\u001B[39;49m\u001B[43mcps_proj_key\u001B[49m\n\u001B[1;32m    102\u001B[0m \u001B[43m\u001B[49m\u001B[43m)\u001B[49m\n\u001B[1;32m    104\u001B[0m \u001B[38;5;66;03m# submit conversion request\u001B[39;00m\n\u001B[1;32m    105\u001B[0m payload \u001B[38;5;241m=\u001B[39m make_payload(source, target, conversion_settings, collection_name)\n",
      "File \u001B[0;32m~/u/text_summarization_and_reading/lib/python3.10/site-packages/deepsearch/core/util/ccs_utils.py:9\u001B[0m, in \u001B[0;36mget_ccs_project_key\u001B[0;34m(api, cps_proj_key)\u001B[0m\n\u001B[1;32m      5\u001B[0m \u001B[38;5;28;01mdef\u001B[39;00m \u001B[38;5;21mget_ccs_project_key\u001B[39m(api: CpsApi, cps_proj_key: \u001B[38;5;28mstr\u001B[39m):\n\u001B[1;32m      6\u001B[0m \u001B[38;5;250m    \u001B[39m\u001B[38;5;124;03m\"\"\"\u001B[39;00m\n\u001B[1;32m      7\u001B[0m \u001B[38;5;124;03m    Given a cps project key, returns ccs project key and collection name.\u001B[39;00m\n\u001B[1;32m      8\u001B[0m \u001B[38;5;124;03m    \"\"\"\u001B[39;00m\n\u001B[0;32m----> 9\u001B[0m     sw_api \u001B[38;5;241m=\u001B[39m sw_client\u001B[38;5;241m.\u001B[39mProjectApi(\u001B[43mapi\u001B[49m\u001B[38;5;241;43m.\u001B[39;49m\u001B[43mclient\u001B[49m\u001B[38;5;241m.\u001B[39mswagger_client)\n\u001B[1;32m     10\u001B[0m     request_ccs_project_key \u001B[38;5;241m=\u001B[39m sw_api\u001B[38;5;241m.\u001B[39mget_project_default_values(proj_key\u001B[38;5;241m=\u001B[39mcps_proj_key)\n\u001B[1;32m     11\u001B[0m     ccs_proj_key \u001B[38;5;241m=\u001B[39m request_ccs_project_key\u001B[38;5;241m.\u001B[39mccs_project\u001B[38;5;241m.\u001B[39mproj_key\n",
      "\u001B[0;31mAttributeError\u001B[0m: 'str' object has no attribute 'client'"
     ]
    }
   ],
   "source": [
    "\n",
    "# documents = ds.convert_documents(api=api, proj_key=project_key, source_path=test_pdf)\n",
    "documents = ds.convert_documents(api=api, proj_key=project_key, urls=\"https://arxiv.org/pdf/2401.04081.pdf\")\n",
    "\n",
    "# Let's download all the converted documents locally in RESULT_DIR\n",
    "documents.download_all(result_dir = results_dir)\n"
   ],
   "metadata": {
    "collapsed": false,
    "ExecuteTime": {
     "end_time": "2024-02-12T10:50:59.491140006Z",
     "start_time": "2024-02-12T10:50:59.395419153Z"
    }
   },
   "id": "initial_id"
  },
  {
   "cell_type": "code",
   "execution_count": 1,
   "outputs": [
    {
     "name": "stdout",
     "output_type": "stream",
     "text": [
      "['Community project']\n"
     ]
    }
   ],
   "source": [
    "import deepsearch as ds\n",
    "api = ds.CpsApi.from_env()\n",
    "print([p.name for p in api.projects.list()])\n"
   ],
   "metadata": {
    "collapsed": false,
    "ExecuteTime": {
     "end_time": "2024-02-03T11:42:29.619622102Z",
     "start_time": "2024-02-03T11:42:26.349199008Z"
    }
   },
   "id": "3e103ad173e8f0d4"
  },
  {
   "cell_type": "code",
   "execution_count": 2,
   "outputs": [
    {
     "ename": "ModuleNotFoundError",
     "evalue": "No module named 'dsnotebooks'",
     "output_type": "error",
     "traceback": [
      "\u001B[0;31m---------------------------------------------------------------------------\u001B[0m",
      "\u001B[0;31mModuleNotFoundError\u001B[0m                       Traceback (most recent call last)",
      "Cell \u001B[0;32mIn[2], line 1\u001B[0m\n\u001B[0;32m----> 1\u001B[0m \u001B[38;5;28;01mfrom\u001B[39;00m \u001B[38;5;21;01mdsnotebooks\u001B[39;00m\u001B[38;5;21;01m.\u001B[39;00m\u001B[38;5;21;01msettings\u001B[39;00m \u001B[38;5;28;01mimport\u001B[39;00m ProjectNotebookSettings\n\u001B[1;32m      3\u001B[0m \u001B[38;5;66;03m# notebook settings auto-loaded from .env / env vars\u001B[39;00m\n\u001B[1;32m      4\u001B[0m notebook_settings \u001B[38;5;241m=\u001B[39m ProjectNotebookSettings()\n",
      "\u001B[0;31mModuleNotFoundError\u001B[0m: No module named 'dsnotebooks'"
     ]
    }
   ],
   "source": [
    "from dsnotebooks.settings import ProjectNotebookSettings\n",
    "\n",
    "# notebook settings auto-loaded from .env / env vars\n",
    "notebook_settings = ProjectNotebookSettings()\n",
    "\n",
    "PROFILE_NAME = notebook_settings.profile  # the profile to use\n",
    "PROJ_KEY = notebook_settings.proj_key     \n",
    "PROFILE_NAME, PROJ_KEY"
   ],
   "metadata": {
    "collapsed": false,
    "ExecuteTime": {
     "end_time": "2024-02-03T11:44:00.246737346Z",
     "start_time": "2024-02-03T11:44:00.011176367Z"
    }
   },
   "id": "b74b932af9912802"
  },
  {
   "cell_type": "code",
   "execution_count": null,
   "outputs": [],
   "source": [],
   "metadata": {
    "collapsed": false
   },
   "id": "a8acb71c766ca94f"
  }
 ],
 "metadata": {
  "kernelspec": {
   "display_name": "Python 3",
   "language": "python",
   "name": "python3"
  },
  "language_info": {
   "codemirror_mode": {
    "name": "ipython",
    "version": 2
   },
   "file_extension": ".py",
   "mimetype": "text/x-python",
   "name": "python",
   "nbconvert_exporter": "python",
   "pygments_lexer": "ipython2",
   "version": "2.7.6"
  }
 },
 "nbformat": 4,
 "nbformat_minor": 5
}
